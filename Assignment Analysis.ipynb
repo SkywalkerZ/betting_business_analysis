{
 "cells": [
  {
   "cell_type": "code",
   "execution_count": 1,
   "id": "0b45c5ae",
   "metadata": {},
   "outputs": [],
   "source": [
    "import pandas as pd\n",
    "import numpy as np\n",
    "import matplotlib.pyplot as plt\n",
    "import seaborn as sns\n",
    "from pandasql import sqldf \n",
    "pysql = lambda q: sqldf(q, globals())"
   ]
  },
  {
   "cell_type": "code",
   "execution_count": 2,
   "id": "43fe220e",
   "metadata": {},
   "outputs": [
    {
     "data": {
      "text/html": [
       "<div>\n",
       "<style scoped>\n",
       "    .dataframe tbody tr th:only-of-type {\n",
       "        vertical-align: middle;\n",
       "    }\n",
       "\n",
       "    .dataframe tbody tr th {\n",
       "        vertical-align: top;\n",
       "    }\n",
       "\n",
       "    .dataframe thead th {\n",
       "        text-align: right;\n",
       "    }\n",
       "</style>\n",
       "<table border=\"1\" class=\"dataframe\">\n",
       "  <thead>\n",
       "    <tr style=\"text-align: right;\">\n",
       "      <th></th>\n",
       "      <th>src_player_id</th>\n",
       "      <th>ActivityMonth</th>\n",
       "      <th>Product</th>\n",
       "      <th>SubProduct</th>\n",
       "      <th>ActivePlayerDays</th>\n",
       "      <th>Bet_Amount</th>\n",
       "      <th>Win_Amount</th>\n",
       "      <th>Gross_Win</th>\n",
       "      <th>Net_Gross_Win</th>\n",
       "    </tr>\n",
       "  </thead>\n",
       "  <tbody>\n",
       "    <tr>\n",
       "      <th>0</th>\n",
       "      <td>16585649</td>\n",
       "      <td>2020-08-31</td>\n",
       "      <td>SportsBook</td>\n",
       "      <td>Livebook</td>\n",
       "      <td>1</td>\n",
       "      <td>500.00</td>\n",
       "      <td>0.00</td>\n",
       "      <td>500.0000</td>\n",
       "      <td>420.000000</td>\n",
       "    </tr>\n",
       "    <tr>\n",
       "      <th>1</th>\n",
       "      <td>12845036</td>\n",
       "      <td>2019-05-31</td>\n",
       "      <td>SportsBook</td>\n",
       "      <td>Prematch</td>\n",
       "      <td>28</td>\n",
       "      <td>1229.48</td>\n",
       "      <td>1177.85</td>\n",
       "      <td>41.6300</td>\n",
       "      <td>34.969200</td>\n",
       "    </tr>\n",
       "    <tr>\n",
       "      <th>2</th>\n",
       "      <td>12720869</td>\n",
       "      <td>2021-06-30</td>\n",
       "      <td>eGaming</td>\n",
       "      <td>Non Table Games</td>\n",
       "      <td>1</td>\n",
       "      <td>73.40</td>\n",
       "      <td>46.20</td>\n",
       "      <td>27.2000</td>\n",
       "      <td>22.848000</td>\n",
       "    </tr>\n",
       "    <tr>\n",
       "      <th>3</th>\n",
       "      <td>18979743</td>\n",
       "      <td>2021-02-28</td>\n",
       "      <td>eGaming</td>\n",
       "      <td>Non Table Games</td>\n",
       "      <td>1</td>\n",
       "      <td>52.00</td>\n",
       "      <td>21.70</td>\n",
       "      <td>30.3000</td>\n",
       "      <td>25.452000</td>\n",
       "    </tr>\n",
       "    <tr>\n",
       "      <th>4</th>\n",
       "      <td>12580168</td>\n",
       "      <td>2020-12-31</td>\n",
       "      <td>eGaming</td>\n",
       "      <td>Non Table Games</td>\n",
       "      <td>1</td>\n",
       "      <td>74.00</td>\n",
       "      <td>54.60</td>\n",
       "      <td>18.6674</td>\n",
       "      <td>15.680616</td>\n",
       "    </tr>\n",
       "  </tbody>\n",
       "</table>\n",
       "</div>"
      ],
      "text/plain": [
       "   src_player_id ActivityMonth     Product       SubProduct  ActivePlayerDays  \\\n",
       "0       16585649    2020-08-31  SportsBook         Livebook                 1   \n",
       "1       12845036    2019-05-31  SportsBook         Prematch                28   \n",
       "2       12720869    2021-06-30     eGaming  Non Table Games                 1   \n",
       "3       18979743    2021-02-28     eGaming  Non Table Games                 1   \n",
       "4       12580168    2020-12-31     eGaming  Non Table Games                 1   \n",
       "\n",
       "   Bet_Amount  Win_Amount  Gross_Win  Net_Gross_Win  \n",
       "0      500.00        0.00   500.0000     420.000000  \n",
       "1     1229.48     1177.85    41.6300      34.969200  \n",
       "2       73.40       46.20    27.2000      22.848000  \n",
       "3       52.00       21.70    30.3000      25.452000  \n",
       "4       74.00       54.60    18.6674      15.680616  "
      ]
     },
     "execution_count": 2,
     "metadata": {},
     "output_type": "execute_result"
    }
   ],
   "source": [
    "player_activity = pd.read_excel('Player_Activity_Data.xlsx')\n",
    "player_activity.head()"
   ]
  },
  {
   "cell_type": "code",
   "execution_count": 3,
   "id": "bc81fd4f",
   "metadata": {},
   "outputs": [
    {
     "data": {
      "text/html": [
       "<div>\n",
       "<style scoped>\n",
       "    .dataframe tbody tr th:only-of-type {\n",
       "        vertical-align: middle;\n",
       "    }\n",
       "\n",
       "    .dataframe tbody tr th {\n",
       "        vertical-align: top;\n",
       "    }\n",
       "\n",
       "    .dataframe thead th {\n",
       "        text-align: right;\n",
       "    }\n",
       "</style>\n",
       "<table border=\"1\" class=\"dataframe\">\n",
       "  <thead>\n",
       "    <tr style=\"text-align: right;\">\n",
       "      <th></th>\n",
       "      <th>Src_Player_Id</th>\n",
       "      <th>Signup_Date</th>\n",
       "      <th>acquisition_channel</th>\n",
       "      <th>src_advertiser_id</th>\n",
       "      <th>Gender</th>\n",
       "      <th>Date_Of_Birth</th>\n",
       "      <th>Internal_Player_YN</th>\n",
       "    </tr>\n",
       "  </thead>\n",
       "  <tbody>\n",
       "    <tr>\n",
       "      <th>0</th>\n",
       "      <td>12584958</td>\n",
       "      <td>2019-02-23 17:24:49</td>\n",
       "      <td>NaN</td>\n",
       "      <td>999999.0</td>\n",
       "      <td>M</td>\n",
       "      <td>1991-08-05</td>\n",
       "      <td>N</td>\n",
       "    </tr>\n",
       "    <tr>\n",
       "      <th>1</th>\n",
       "      <td>12356925</td>\n",
       "      <td>2019-01-07 15:57:11</td>\n",
       "      <td>NaN</td>\n",
       "      <td>999999.0</td>\n",
       "      <td>M</td>\n",
       "      <td>1993-09-09</td>\n",
       "      <td>N</td>\n",
       "    </tr>\n",
       "    <tr>\n",
       "      <th>2</th>\n",
       "      <td>12500831</td>\n",
       "      <td>2019-02-10 08:31:13</td>\n",
       "      <td>NaN</td>\n",
       "      <td>999999.0</td>\n",
       "      <td>M</td>\n",
       "      <td>1971-10-15</td>\n",
       "      <td>N</td>\n",
       "    </tr>\n",
       "    <tr>\n",
       "      <th>3</th>\n",
       "      <td>12660009</td>\n",
       "      <td>2019-03-12 09:42:53</td>\n",
       "      <td>NaN</td>\n",
       "      <td>999999.0</td>\n",
       "      <td>M</td>\n",
       "      <td>2000-12-15</td>\n",
       "      <td>N</td>\n",
       "    </tr>\n",
       "    <tr>\n",
       "      <th>4</th>\n",
       "      <td>12447120</td>\n",
       "      <td>2019-01-28 09:53:42</td>\n",
       "      <td>NaN</td>\n",
       "      <td>999999.0</td>\n",
       "      <td>M</td>\n",
       "      <td>1994-03-07</td>\n",
       "      <td>N</td>\n",
       "    </tr>\n",
       "  </tbody>\n",
       "</table>\n",
       "</div>"
      ],
      "text/plain": [
       "   Src_Player_Id         Signup_Date acquisition_channel  src_advertiser_id  \\\n",
       "0       12584958 2019-02-23 17:24:49                 NaN           999999.0   \n",
       "1       12356925 2019-01-07 15:57:11                 NaN           999999.0   \n",
       "2       12500831 2019-02-10 08:31:13                 NaN           999999.0   \n",
       "3       12660009 2019-03-12 09:42:53                 NaN           999999.0   \n",
       "4       12447120 2019-01-28 09:53:42                 NaN           999999.0   \n",
       "\n",
       "  Gender Date_Of_Birth Internal_Player_YN  \n",
       "0     M     1991-08-05                 N   \n",
       "1     M     1993-09-09                 N   \n",
       "2     M     1971-10-15                 N   \n",
       "3     M     2000-12-15                 N   \n",
       "4     M     1994-03-07                 N   "
      ]
     },
     "execution_count": 3,
     "metadata": {},
     "output_type": "execute_result"
    }
   ],
   "source": [
    "player_details = pd.read_excel('Player_Details.xlsx')\n",
    "player_details.head()"
   ]
  },
  {
   "cell_type": "code",
   "execution_count": 4,
   "id": "f56b28a7",
   "metadata": {},
   "outputs": [
    {
     "data": {
      "text/html": [
       "<div>\n",
       "<style scoped>\n",
       "    .dataframe tbody tr th:only-of-type {\n",
       "        vertical-align: middle;\n",
       "    }\n",
       "\n",
       "    .dataframe tbody tr th {\n",
       "        vertical-align: top;\n",
       "    }\n",
       "\n",
       "    .dataframe thead th {\n",
       "        text-align: right;\n",
       "    }\n",
       "</style>\n",
       "<table border=\"1\" class=\"dataframe\">\n",
       "  <thead>\n",
       "    <tr style=\"text-align: right;\">\n",
       "      <th></th>\n",
       "      <th>Src_Player_Id</th>\n",
       "      <th>First_Deposit_Date</th>\n",
       "      <th>First_Deposit_Channel</th>\n",
       "      <th>First_Deposit_Method</th>\n",
       "      <th>First_Deposit_Amount</th>\n",
       "    </tr>\n",
       "  </thead>\n",
       "  <tbody>\n",
       "    <tr>\n",
       "      <th>0</th>\n",
       "      <td>13472812</td>\n",
       "      <td>NaT</td>\n",
       "      <td>NaN</td>\n",
       "      <td>NaN</td>\n",
       "      <td>NaN</td>\n",
       "    </tr>\n",
       "    <tr>\n",
       "      <th>1</th>\n",
       "      <td>13331793</td>\n",
       "      <td>NaT</td>\n",
       "      <td>NaN</td>\n",
       "      <td>NaN</td>\n",
       "      <td>NaN</td>\n",
       "    </tr>\n",
       "    <tr>\n",
       "      <th>2</th>\n",
       "      <td>13116242</td>\n",
       "      <td>NaT</td>\n",
       "      <td>NaN</td>\n",
       "      <td>NaN</td>\n",
       "      <td>NaN</td>\n",
       "    </tr>\n",
       "    <tr>\n",
       "      <th>3</th>\n",
       "      <td>12689016</td>\n",
       "      <td>NaT</td>\n",
       "      <td>NaN</td>\n",
       "      <td>NaN</td>\n",
       "      <td>NaN</td>\n",
       "    </tr>\n",
       "    <tr>\n",
       "      <th>4</th>\n",
       "      <td>12681525</td>\n",
       "      <td>NaT</td>\n",
       "      <td>NaN</td>\n",
       "      <td>NaN</td>\n",
       "      <td>NaN</td>\n",
       "    </tr>\n",
       "  </tbody>\n",
       "</table>\n",
       "</div>"
      ],
      "text/plain": [
       "   Src_Player_Id First_Deposit_Date First_Deposit_Channel  \\\n",
       "0       13472812                NaT                   NaN   \n",
       "1       13331793                NaT                   NaN   \n",
       "2       13116242                NaT                   NaN   \n",
       "3       12689016                NaT                   NaN   \n",
       "4       12681525                NaT                   NaN   \n",
       "\n",
       "  First_Deposit_Method  First_Deposit_Amount  \n",
       "0                  NaN                   NaN  \n",
       "1                  NaN                   NaN  \n",
       "2                  NaN                   NaN  \n",
       "3                  NaN                   NaN  \n",
       "4                  NaN                   NaN  "
      ]
     },
     "execution_count": 4,
     "metadata": {},
     "output_type": "execute_result"
    }
   ],
   "source": [
    "first_deposit = pd.read_excel('First_Deposit_Data.xlsx')\n",
    "first_deposit.head()"
   ]
  },
  {
   "cell_type": "code",
   "execution_count": 5,
   "id": "4931048c",
   "metadata": {},
   "outputs": [
    {
     "data": {
      "text/html": [
       "<div>\n",
       "<style scoped>\n",
       "    .dataframe tbody tr th:only-of-type {\n",
       "        vertical-align: middle;\n",
       "    }\n",
       "\n",
       "    .dataframe tbody tr th {\n",
       "        vertical-align: top;\n",
       "    }\n",
       "\n",
       "    .dataframe thead th {\n",
       "        text-align: right;\n",
       "    }\n",
       "</style>\n",
       "<table border=\"1\" class=\"dataframe\">\n",
       "  <thead>\n",
       "    <tr style=\"text-align: right;\">\n",
       "      <th></th>\n",
       "      <th>Src_Player_Id</th>\n",
       "      <th>System_First_Bet_Datetime</th>\n",
       "      <th>System_First_BetSlip_Amt</th>\n",
       "      <th>System_First_Bet_Product_Group</th>\n",
       "      <th>System_First_Bet_Product</th>\n",
       "      <th>System_First_Bet_Channel</th>\n",
       "      <th>System_First_Bet_Platform</th>\n",
       "    </tr>\n",
       "  </thead>\n",
       "  <tbody>\n",
       "    <tr>\n",
       "      <th>0</th>\n",
       "      <td>15643431</td>\n",
       "      <td>2020-10-09 03:57:29.000</td>\n",
       "      <td>2.5</td>\n",
       "      <td>eGaming</td>\n",
       "      <td>Non Table Games</td>\n",
       "      <td>Online</td>\n",
       "      <td>Mobile</td>\n",
       "    </tr>\n",
       "    <tr>\n",
       "      <th>1</th>\n",
       "      <td>13593034</td>\n",
       "      <td>2019-09-27 15:03:58.244</td>\n",
       "      <td>10.0</td>\n",
       "      <td>Sports</td>\n",
       "      <td>Prematch</td>\n",
       "      <td>Online</td>\n",
       "      <td>Mobile</td>\n",
       "    </tr>\n",
       "    <tr>\n",
       "      <th>2</th>\n",
       "      <td>15894194</td>\n",
       "      <td>2021-02-28 02:22:07.000</td>\n",
       "      <td>2.0</td>\n",
       "      <td>eGaming</td>\n",
       "      <td>Non Table Games</td>\n",
       "      <td>Online</td>\n",
       "      <td>Web</td>\n",
       "    </tr>\n",
       "    <tr>\n",
       "      <th>3</th>\n",
       "      <td>13238000</td>\n",
       "      <td>2019-07-08 10:39:45.000</td>\n",
       "      <td>0.4</td>\n",
       "      <td>eGaming</td>\n",
       "      <td>Non Table Games</td>\n",
       "      <td>Online</td>\n",
       "      <td>Mobile</td>\n",
       "    </tr>\n",
       "    <tr>\n",
       "      <th>4</th>\n",
       "      <td>12866848</td>\n",
       "      <td>2019-04-27 14:20:27.000</td>\n",
       "      <td>0.4</td>\n",
       "      <td>eGaming</td>\n",
       "      <td>Non Table Games</td>\n",
       "      <td>Online</td>\n",
       "      <td>Mobile</td>\n",
       "    </tr>\n",
       "  </tbody>\n",
       "</table>\n",
       "</div>"
      ],
      "text/plain": [
       "   Src_Player_Id System_First_Bet_Datetime  System_First_BetSlip_Amt  \\\n",
       "0       15643431   2020-10-09 03:57:29.000                       2.5   \n",
       "1       13593034   2019-09-27 15:03:58.244                      10.0   \n",
       "2       15894194   2021-02-28 02:22:07.000                       2.0   \n",
       "3       13238000   2019-07-08 10:39:45.000                       0.4   \n",
       "4       12866848   2019-04-27 14:20:27.000                       0.4   \n",
       "\n",
       "  System_First_Bet_Product_Group System_First_Bet_Product  \\\n",
       "0                        eGaming          Non Table Games   \n",
       "1                         Sports                 Prematch   \n",
       "2                        eGaming          Non Table Games   \n",
       "3                        eGaming          Non Table Games   \n",
       "4                        eGaming          Non Table Games   \n",
       "\n",
       "  System_First_Bet_Channel System_First_Bet_Platform  \n",
       "0                   Online                    Mobile  \n",
       "1                   Online                    Mobile  \n",
       "2                   Online                       Web  \n",
       "3                   Online                    Mobile  \n",
       "4                   Online                    Mobile  "
      ]
     },
     "execution_count": 5,
     "metadata": {},
     "output_type": "execute_result"
    }
   ],
   "source": [
    "first_bet = pd.read_excel('First_Bet_Data.xlsx')\n",
    "first_bet.head()"
   ]
  },
  {
   "cell_type": "code",
   "execution_count": 6,
   "id": "18c4f7bc",
   "metadata": {},
   "outputs": [
    {
     "data": {
      "text/html": [
       "<div>\n",
       "<style scoped>\n",
       "    .dataframe tbody tr th:only-of-type {\n",
       "        vertical-align: middle;\n",
       "    }\n",
       "\n",
       "    .dataframe tbody tr th {\n",
       "        vertical-align: top;\n",
       "    }\n",
       "\n",
       "    .dataframe thead th {\n",
       "        text-align: right;\n",
       "    }\n",
       "</style>\n",
       "<table border=\"1\" class=\"dataframe\">\n",
       "  <thead>\n",
       "    <tr style=\"text-align: right;\">\n",
       "      <th></th>\n",
       "      <th>Src_PLAYER_ID</th>\n",
       "      <th>ActivityMonth</th>\n",
       "      <th>Product</th>\n",
       "      <th>BONUS_COST</th>\n",
       "    </tr>\n",
       "  </thead>\n",
       "  <tbody>\n",
       "    <tr>\n",
       "      <th>0</th>\n",
       "      <td>16051927</td>\n",
       "      <td>2020-06-30</td>\n",
       "      <td>eGaming</td>\n",
       "      <td>50.0</td>\n",
       "    </tr>\n",
       "    <tr>\n",
       "      <th>1</th>\n",
       "      <td>19309540</td>\n",
       "      <td>2021-02-28</td>\n",
       "      <td>eGaming</td>\n",
       "      <td>40.0</td>\n",
       "    </tr>\n",
       "    <tr>\n",
       "      <th>2</th>\n",
       "      <td>13176431</td>\n",
       "      <td>2020-01-31</td>\n",
       "      <td>eGaming</td>\n",
       "      <td>15.0</td>\n",
       "    </tr>\n",
       "    <tr>\n",
       "      <th>3</th>\n",
       "      <td>12405628</td>\n",
       "      <td>2019-02-28</td>\n",
       "      <td>SportsBook</td>\n",
       "      <td>30.0</td>\n",
       "    </tr>\n",
       "    <tr>\n",
       "      <th>4</th>\n",
       "      <td>17486248</td>\n",
       "      <td>2021-02-28</td>\n",
       "      <td>eGaming</td>\n",
       "      <td>25.0</td>\n",
       "    </tr>\n",
       "  </tbody>\n",
       "</table>\n",
       "</div>"
      ],
      "text/plain": [
       "   Src_PLAYER_ID ActivityMonth     Product  BONUS_COST\n",
       "0       16051927    2020-06-30     eGaming        50.0\n",
       "1       19309540    2021-02-28     eGaming        40.0\n",
       "2       13176431    2020-01-31     eGaming        15.0\n",
       "3       12405628    2019-02-28  SportsBook        30.0\n",
       "4       17486248    2021-02-28     eGaming        25.0"
      ]
     },
     "execution_count": 6,
     "metadata": {},
     "output_type": "execute_result"
    }
   ],
   "source": [
    "bonus_cost = pd.read_excel('BonusCost_Data.xlsx')\n",
    "bonus_cost.head()"
   ]
  },
  {
   "cell_type": "markdown",
   "id": "e8b6b6a0",
   "metadata": {},
   "source": [
    "### Data Cleaning"
   ]
  },
  {
   "cell_type": "markdown",
   "id": "4d809b70",
   "metadata": {},
   "source": [
    "#### Making all the headers lowercase"
   ]
  },
  {
   "cell_type": "code",
   "execution_count": 7,
   "id": "1ba08665",
   "metadata": {},
   "outputs": [],
   "source": [
    "player_activity.columns = player_activity.columns.str.lower()\n",
    "player_details.columns = player_details.columns.str.lower()\n",
    "first_deposit.columns = first_deposit.columns.str.lower()\n",
    "first_bet.columns = first_bet.columns.str.lower()\n",
    "bonus_cost.columns = bonus_cost.columns.str.lower()"
   ]
  },
  {
   "cell_type": "code",
   "execution_count": 8,
   "id": "45db9c60",
   "metadata": {},
   "outputs": [
    {
     "data": {
      "text/html": [
       "<div>\n",
       "<style scoped>\n",
       "    .dataframe tbody tr th:only-of-type {\n",
       "        vertical-align: middle;\n",
       "    }\n",
       "\n",
       "    .dataframe tbody tr th {\n",
       "        vertical-align: top;\n",
       "    }\n",
       "\n",
       "    .dataframe thead th {\n",
       "        text-align: right;\n",
       "    }\n",
       "</style>\n",
       "<table border=\"1\" class=\"dataframe\">\n",
       "  <thead>\n",
       "    <tr style=\"text-align: right;\">\n",
       "      <th></th>\n",
       "      <th>src_player_id</th>\n",
       "      <th>activitymonth</th>\n",
       "      <th>product</th>\n",
       "      <th>subproduct</th>\n",
       "      <th>activeplayerdays</th>\n",
       "      <th>bet_amount</th>\n",
       "      <th>win_amount</th>\n",
       "      <th>gross_win</th>\n",
       "      <th>net_gross_win</th>\n",
       "    </tr>\n",
       "  </thead>\n",
       "  <tbody>\n",
       "    <tr>\n",
       "      <th>0</th>\n",
       "      <td>16585649</td>\n",
       "      <td>2020-08-31</td>\n",
       "      <td>SportsBook</td>\n",
       "      <td>Livebook</td>\n",
       "      <td>1</td>\n",
       "      <td>500.00</td>\n",
       "      <td>0.00</td>\n",
       "      <td>500.0000</td>\n",
       "      <td>420.000000</td>\n",
       "    </tr>\n",
       "    <tr>\n",
       "      <th>1</th>\n",
       "      <td>12845036</td>\n",
       "      <td>2019-05-31</td>\n",
       "      <td>SportsBook</td>\n",
       "      <td>Prematch</td>\n",
       "      <td>28</td>\n",
       "      <td>1229.48</td>\n",
       "      <td>1177.85</td>\n",
       "      <td>41.6300</td>\n",
       "      <td>34.969200</td>\n",
       "    </tr>\n",
       "    <tr>\n",
       "      <th>2</th>\n",
       "      <td>12720869</td>\n",
       "      <td>2021-06-30</td>\n",
       "      <td>eGaming</td>\n",
       "      <td>Non Table Games</td>\n",
       "      <td>1</td>\n",
       "      <td>73.40</td>\n",
       "      <td>46.20</td>\n",
       "      <td>27.2000</td>\n",
       "      <td>22.848000</td>\n",
       "    </tr>\n",
       "    <tr>\n",
       "      <th>3</th>\n",
       "      <td>18979743</td>\n",
       "      <td>2021-02-28</td>\n",
       "      <td>eGaming</td>\n",
       "      <td>Non Table Games</td>\n",
       "      <td>1</td>\n",
       "      <td>52.00</td>\n",
       "      <td>21.70</td>\n",
       "      <td>30.3000</td>\n",
       "      <td>25.452000</td>\n",
       "    </tr>\n",
       "    <tr>\n",
       "      <th>4</th>\n",
       "      <td>12580168</td>\n",
       "      <td>2020-12-31</td>\n",
       "      <td>eGaming</td>\n",
       "      <td>Non Table Games</td>\n",
       "      <td>1</td>\n",
       "      <td>74.00</td>\n",
       "      <td>54.60</td>\n",
       "      <td>18.6674</td>\n",
       "      <td>15.680616</td>\n",
       "    </tr>\n",
       "  </tbody>\n",
       "</table>\n",
       "</div>"
      ],
      "text/plain": [
       "   src_player_id activitymonth     product       subproduct  activeplayerdays  \\\n",
       "0       16585649    2020-08-31  SportsBook         Livebook                 1   \n",
       "1       12845036    2019-05-31  SportsBook         Prematch                28   \n",
       "2       12720869    2021-06-30     eGaming  Non Table Games                 1   \n",
       "3       18979743    2021-02-28     eGaming  Non Table Games                 1   \n",
       "4       12580168    2020-12-31     eGaming  Non Table Games                 1   \n",
       "\n",
       "   bet_amount  win_amount  gross_win  net_gross_win  \n",
       "0      500.00        0.00   500.0000     420.000000  \n",
       "1     1229.48     1177.85    41.6300      34.969200  \n",
       "2       73.40       46.20    27.2000      22.848000  \n",
       "3       52.00       21.70    30.3000      25.452000  \n",
       "4       74.00       54.60    18.6674      15.680616  "
      ]
     },
     "execution_count": 8,
     "metadata": {},
     "output_type": "execute_result"
    }
   ],
   "source": [
    "player_activity.head()"
   ]
  },
  {
   "cell_type": "code",
   "execution_count": 9,
   "id": "3d062019",
   "metadata": {},
   "outputs": [
    {
     "data": {
      "text/html": [
       "<div>\n",
       "<style scoped>\n",
       "    .dataframe tbody tr th:only-of-type {\n",
       "        vertical-align: middle;\n",
       "    }\n",
       "\n",
       "    .dataframe tbody tr th {\n",
       "        vertical-align: top;\n",
       "    }\n",
       "\n",
       "    .dataframe thead th {\n",
       "        text-align: right;\n",
       "    }\n",
       "</style>\n",
       "<table border=\"1\" class=\"dataframe\">\n",
       "  <thead>\n",
       "    <tr style=\"text-align: right;\">\n",
       "      <th></th>\n",
       "      <th>src_player_id</th>\n",
       "      <th>signup_date</th>\n",
       "      <th>acquisition_channel</th>\n",
       "      <th>src_advertiser_id</th>\n",
       "      <th>gender</th>\n",
       "      <th>date_of_birth</th>\n",
       "      <th>internal_player_yn</th>\n",
       "    </tr>\n",
       "  </thead>\n",
       "  <tbody>\n",
       "    <tr>\n",
       "      <th>0</th>\n",
       "      <td>12584958</td>\n",
       "      <td>2019-02-23 17:24:49</td>\n",
       "      <td>NaN</td>\n",
       "      <td>999999.0</td>\n",
       "      <td>M</td>\n",
       "      <td>1991-08-05</td>\n",
       "      <td>N</td>\n",
       "    </tr>\n",
       "    <tr>\n",
       "      <th>1</th>\n",
       "      <td>12356925</td>\n",
       "      <td>2019-01-07 15:57:11</td>\n",
       "      <td>NaN</td>\n",
       "      <td>999999.0</td>\n",
       "      <td>M</td>\n",
       "      <td>1993-09-09</td>\n",
       "      <td>N</td>\n",
       "    </tr>\n",
       "    <tr>\n",
       "      <th>2</th>\n",
       "      <td>12500831</td>\n",
       "      <td>2019-02-10 08:31:13</td>\n",
       "      <td>NaN</td>\n",
       "      <td>999999.0</td>\n",
       "      <td>M</td>\n",
       "      <td>1971-10-15</td>\n",
       "      <td>N</td>\n",
       "    </tr>\n",
       "    <tr>\n",
       "      <th>3</th>\n",
       "      <td>12660009</td>\n",
       "      <td>2019-03-12 09:42:53</td>\n",
       "      <td>NaN</td>\n",
       "      <td>999999.0</td>\n",
       "      <td>M</td>\n",
       "      <td>2000-12-15</td>\n",
       "      <td>N</td>\n",
       "    </tr>\n",
       "    <tr>\n",
       "      <th>4</th>\n",
       "      <td>12447120</td>\n",
       "      <td>2019-01-28 09:53:42</td>\n",
       "      <td>NaN</td>\n",
       "      <td>999999.0</td>\n",
       "      <td>M</td>\n",
       "      <td>1994-03-07</td>\n",
       "      <td>N</td>\n",
       "    </tr>\n",
       "  </tbody>\n",
       "</table>\n",
       "</div>"
      ],
      "text/plain": [
       "   src_player_id         signup_date acquisition_channel  src_advertiser_id  \\\n",
       "0       12584958 2019-02-23 17:24:49                 NaN           999999.0   \n",
       "1       12356925 2019-01-07 15:57:11                 NaN           999999.0   \n",
       "2       12500831 2019-02-10 08:31:13                 NaN           999999.0   \n",
       "3       12660009 2019-03-12 09:42:53                 NaN           999999.0   \n",
       "4       12447120 2019-01-28 09:53:42                 NaN           999999.0   \n",
       "\n",
       "  gender date_of_birth internal_player_yn  \n",
       "0     M     1991-08-05                 N   \n",
       "1     M     1993-09-09                 N   \n",
       "2     M     1971-10-15                 N   \n",
       "3     M     2000-12-15                 N   \n",
       "4     M     1994-03-07                 N   "
      ]
     },
     "execution_count": 9,
     "metadata": {},
     "output_type": "execute_result"
    }
   ],
   "source": [
    "player_details.head()"
   ]
  },
  {
   "cell_type": "code",
   "execution_count": 10,
   "id": "c68942c7",
   "metadata": {},
   "outputs": [
    {
     "data": {
      "text/html": [
       "<div>\n",
       "<style scoped>\n",
       "    .dataframe tbody tr th:only-of-type {\n",
       "        vertical-align: middle;\n",
       "    }\n",
       "\n",
       "    .dataframe tbody tr th {\n",
       "        vertical-align: top;\n",
       "    }\n",
       "\n",
       "    .dataframe thead th {\n",
       "        text-align: right;\n",
       "    }\n",
       "</style>\n",
       "<table border=\"1\" class=\"dataframe\">\n",
       "  <thead>\n",
       "    <tr style=\"text-align: right;\">\n",
       "      <th></th>\n",
       "      <th>src_player_id</th>\n",
       "      <th>first_deposit_date</th>\n",
       "      <th>first_deposit_channel</th>\n",
       "      <th>first_deposit_method</th>\n",
       "      <th>first_deposit_amount</th>\n",
       "    </tr>\n",
       "  </thead>\n",
       "  <tbody>\n",
       "    <tr>\n",
       "      <th>0</th>\n",
       "      <td>13472812</td>\n",
       "      <td>NaT</td>\n",
       "      <td>NaN</td>\n",
       "      <td>NaN</td>\n",
       "      <td>NaN</td>\n",
       "    </tr>\n",
       "    <tr>\n",
       "      <th>1</th>\n",
       "      <td>13331793</td>\n",
       "      <td>NaT</td>\n",
       "      <td>NaN</td>\n",
       "      <td>NaN</td>\n",
       "      <td>NaN</td>\n",
       "    </tr>\n",
       "    <tr>\n",
       "      <th>2</th>\n",
       "      <td>13116242</td>\n",
       "      <td>NaT</td>\n",
       "      <td>NaN</td>\n",
       "      <td>NaN</td>\n",
       "      <td>NaN</td>\n",
       "    </tr>\n",
       "    <tr>\n",
       "      <th>3</th>\n",
       "      <td>12689016</td>\n",
       "      <td>NaT</td>\n",
       "      <td>NaN</td>\n",
       "      <td>NaN</td>\n",
       "      <td>NaN</td>\n",
       "    </tr>\n",
       "    <tr>\n",
       "      <th>4</th>\n",
       "      <td>12681525</td>\n",
       "      <td>NaT</td>\n",
       "      <td>NaN</td>\n",
       "      <td>NaN</td>\n",
       "      <td>NaN</td>\n",
       "    </tr>\n",
       "  </tbody>\n",
       "</table>\n",
       "</div>"
      ],
      "text/plain": [
       "   src_player_id first_deposit_date first_deposit_channel  \\\n",
       "0       13472812                NaT                   NaN   \n",
       "1       13331793                NaT                   NaN   \n",
       "2       13116242                NaT                   NaN   \n",
       "3       12689016                NaT                   NaN   \n",
       "4       12681525                NaT                   NaN   \n",
       "\n",
       "  first_deposit_method  first_deposit_amount  \n",
       "0                  NaN                   NaN  \n",
       "1                  NaN                   NaN  \n",
       "2                  NaN                   NaN  \n",
       "3                  NaN                   NaN  \n",
       "4                  NaN                   NaN  "
      ]
     },
     "execution_count": 10,
     "metadata": {},
     "output_type": "execute_result"
    }
   ],
   "source": [
    "first_deposit.head()"
   ]
  },
  {
   "cell_type": "code",
   "execution_count": 11,
   "id": "116f0ffa",
   "metadata": {},
   "outputs": [
    {
     "data": {
      "text/html": [
       "<div>\n",
       "<style scoped>\n",
       "    .dataframe tbody tr th:only-of-type {\n",
       "        vertical-align: middle;\n",
       "    }\n",
       "\n",
       "    .dataframe tbody tr th {\n",
       "        vertical-align: top;\n",
       "    }\n",
       "\n",
       "    .dataframe thead th {\n",
       "        text-align: right;\n",
       "    }\n",
       "</style>\n",
       "<table border=\"1\" class=\"dataframe\">\n",
       "  <thead>\n",
       "    <tr style=\"text-align: right;\">\n",
       "      <th></th>\n",
       "      <th>src_player_id</th>\n",
       "      <th>system_first_bet_datetime</th>\n",
       "      <th>system_first_betslip_amt</th>\n",
       "      <th>system_first_bet_product_group</th>\n",
       "      <th>system_first_bet_product</th>\n",
       "      <th>system_first_bet_channel</th>\n",
       "      <th>system_first_bet_platform</th>\n",
       "    </tr>\n",
       "  </thead>\n",
       "  <tbody>\n",
       "    <tr>\n",
       "      <th>0</th>\n",
       "      <td>15643431</td>\n",
       "      <td>2020-10-09 03:57:29.000</td>\n",
       "      <td>2.5</td>\n",
       "      <td>eGaming</td>\n",
       "      <td>Non Table Games</td>\n",
       "      <td>Online</td>\n",
       "      <td>Mobile</td>\n",
       "    </tr>\n",
       "    <tr>\n",
       "      <th>1</th>\n",
       "      <td>13593034</td>\n",
       "      <td>2019-09-27 15:03:58.244</td>\n",
       "      <td>10.0</td>\n",
       "      <td>Sports</td>\n",
       "      <td>Prematch</td>\n",
       "      <td>Online</td>\n",
       "      <td>Mobile</td>\n",
       "    </tr>\n",
       "    <tr>\n",
       "      <th>2</th>\n",
       "      <td>15894194</td>\n",
       "      <td>2021-02-28 02:22:07.000</td>\n",
       "      <td>2.0</td>\n",
       "      <td>eGaming</td>\n",
       "      <td>Non Table Games</td>\n",
       "      <td>Online</td>\n",
       "      <td>Web</td>\n",
       "    </tr>\n",
       "    <tr>\n",
       "      <th>3</th>\n",
       "      <td>13238000</td>\n",
       "      <td>2019-07-08 10:39:45.000</td>\n",
       "      <td>0.4</td>\n",
       "      <td>eGaming</td>\n",
       "      <td>Non Table Games</td>\n",
       "      <td>Online</td>\n",
       "      <td>Mobile</td>\n",
       "    </tr>\n",
       "    <tr>\n",
       "      <th>4</th>\n",
       "      <td>12866848</td>\n",
       "      <td>2019-04-27 14:20:27.000</td>\n",
       "      <td>0.4</td>\n",
       "      <td>eGaming</td>\n",
       "      <td>Non Table Games</td>\n",
       "      <td>Online</td>\n",
       "      <td>Mobile</td>\n",
       "    </tr>\n",
       "  </tbody>\n",
       "</table>\n",
       "</div>"
      ],
      "text/plain": [
       "   src_player_id system_first_bet_datetime  system_first_betslip_amt  \\\n",
       "0       15643431   2020-10-09 03:57:29.000                       2.5   \n",
       "1       13593034   2019-09-27 15:03:58.244                      10.0   \n",
       "2       15894194   2021-02-28 02:22:07.000                       2.0   \n",
       "3       13238000   2019-07-08 10:39:45.000                       0.4   \n",
       "4       12866848   2019-04-27 14:20:27.000                       0.4   \n",
       "\n",
       "  system_first_bet_product_group system_first_bet_product  \\\n",
       "0                        eGaming          Non Table Games   \n",
       "1                         Sports                 Prematch   \n",
       "2                        eGaming          Non Table Games   \n",
       "3                        eGaming          Non Table Games   \n",
       "4                        eGaming          Non Table Games   \n",
       "\n",
       "  system_first_bet_channel system_first_bet_platform  \n",
       "0                   Online                    Mobile  \n",
       "1                   Online                    Mobile  \n",
       "2                   Online                       Web  \n",
       "3                   Online                    Mobile  \n",
       "4                   Online                    Mobile  "
      ]
     },
     "execution_count": 11,
     "metadata": {},
     "output_type": "execute_result"
    }
   ],
   "source": [
    "first_bet.head()"
   ]
  },
  {
   "cell_type": "code",
   "execution_count": 12,
   "id": "15ca97d7",
   "metadata": {},
   "outputs": [
    {
     "data": {
      "text/html": [
       "<div>\n",
       "<style scoped>\n",
       "    .dataframe tbody tr th:only-of-type {\n",
       "        vertical-align: middle;\n",
       "    }\n",
       "\n",
       "    .dataframe tbody tr th {\n",
       "        vertical-align: top;\n",
       "    }\n",
       "\n",
       "    .dataframe thead th {\n",
       "        text-align: right;\n",
       "    }\n",
       "</style>\n",
       "<table border=\"1\" class=\"dataframe\">\n",
       "  <thead>\n",
       "    <tr style=\"text-align: right;\">\n",
       "      <th></th>\n",
       "      <th>src_player_id</th>\n",
       "      <th>activitymonth</th>\n",
       "      <th>product</th>\n",
       "      <th>bonus_cost</th>\n",
       "    </tr>\n",
       "  </thead>\n",
       "  <tbody>\n",
       "    <tr>\n",
       "      <th>0</th>\n",
       "      <td>16051927</td>\n",
       "      <td>2020-06-30</td>\n",
       "      <td>eGaming</td>\n",
       "      <td>50.0</td>\n",
       "    </tr>\n",
       "    <tr>\n",
       "      <th>1</th>\n",
       "      <td>19309540</td>\n",
       "      <td>2021-02-28</td>\n",
       "      <td>eGaming</td>\n",
       "      <td>40.0</td>\n",
       "    </tr>\n",
       "    <tr>\n",
       "      <th>2</th>\n",
       "      <td>13176431</td>\n",
       "      <td>2020-01-31</td>\n",
       "      <td>eGaming</td>\n",
       "      <td>15.0</td>\n",
       "    </tr>\n",
       "    <tr>\n",
       "      <th>3</th>\n",
       "      <td>12405628</td>\n",
       "      <td>2019-02-28</td>\n",
       "      <td>SportsBook</td>\n",
       "      <td>30.0</td>\n",
       "    </tr>\n",
       "    <tr>\n",
       "      <th>4</th>\n",
       "      <td>17486248</td>\n",
       "      <td>2021-02-28</td>\n",
       "      <td>eGaming</td>\n",
       "      <td>25.0</td>\n",
       "    </tr>\n",
       "  </tbody>\n",
       "</table>\n",
       "</div>"
      ],
      "text/plain": [
       "   src_player_id activitymonth     product  bonus_cost\n",
       "0       16051927    2020-06-30     eGaming        50.0\n",
       "1       19309540    2021-02-28     eGaming        40.0\n",
       "2       13176431    2020-01-31     eGaming        15.0\n",
       "3       12405628    2019-02-28  SportsBook        30.0\n",
       "4       17486248    2021-02-28     eGaming        25.0"
      ]
     },
     "execution_count": 12,
     "metadata": {},
     "output_type": "execute_result"
    }
   ],
   "source": [
    "bonus_cost.head()"
   ]
  },
  {
   "cell_type": "markdown",
   "id": "72d4c298",
   "metadata": {},
   "source": [
    "#### Total First Deposits"
   ]
  },
  {
   "cell_type": "code",
   "execution_count": 13,
   "id": "3d774045",
   "metadata": {},
   "outputs": [
    {
     "name": "stderr",
     "output_type": "stream",
     "text": [
      "C:\\Users\\abraa\\AppData\\Local\\Temp\\ipykernel_5884\\1367858127.py:1: FutureWarning: Treating datetime data as categorical rather than numeric in `.describe` is deprecated and will be removed in a future version of pandas. Specify `datetime_is_numeric=True` to silence this warning and adopt the future behavior now.\n",
      "  first_deposit.first_deposit_date.describe()\n"
     ]
    },
    {
     "data": {
      "text/plain": [
       "count                  127261\n",
       "unique                 127097\n",
       "top       2020-11-11 18:27:44\n",
       "freq                        2\n",
       "first     2019-01-01 09:55:27\n",
       "last      2021-07-12 21:46:38\n",
       "Name: first_deposit_date, dtype: object"
      ]
     },
     "execution_count": 13,
     "metadata": {},
     "output_type": "execute_result"
    }
   ],
   "source": [
    "first_deposit.first_deposit_date.describe()"
   ]
  },
  {
   "cell_type": "code",
   "execution_count": 14,
   "id": "6ac75106",
   "metadata": {},
   "outputs": [
    {
     "name": "stdout",
     "output_type": "stream",
     "text": [
      "292785\n",
      "127261\n"
     ]
    }
   ],
   "source": [
    "print(len(first_deposit))\n",
    "total_first_deposit = first_deposit.query('first_deposit_date.notna()')\n",
    "print(len(total_first_deposit))"
   ]
  },
  {
   "cell_type": "code",
   "execution_count": 15,
   "id": "fe7854f2",
   "metadata": {},
   "outputs": [
    {
     "name": "stdout",
     "output_type": "stream",
     "text": [
      "Total number of player ids:  292785\n",
      "Total number of player ids who actually deposited money:  127261\n",
      "Total % deposited:  43.465683009717026 %\n",
      "Data from 2019-01-01 till 2021-07-12\n"
     ]
    }
   ],
   "source": [
    "print(\"Total number of player ids: \", len(first_deposit))\n",
    "print(\"Total number of player ids who actually deposited money: \", len(total_first_deposit))\n",
    "print(\"Total % deposited: \", (len(total_first_deposit)/len(first_deposit)*100),\"%\")\n",
    "print(\"Data from 2019-01-01 till 2021-07-12\")"
   ]
  },
  {
   "cell_type": "markdown",
   "id": "05012150",
   "metadata": {},
   "source": [
    "#### Stats on first deposit amount"
   ]
  },
  {
   "cell_type": "code",
   "execution_count": 16,
   "id": "39814065",
   "metadata": {},
   "outputs": [
    {
     "data": {
      "text/plain": [
       "count    127261.000000\n",
       "mean        122.604902\n",
       "std         211.805569\n",
       "min          10.000000\n",
       "25%          30.000000\n",
       "50%          50.000000\n",
       "75%         100.000000\n",
       "max       13000.000000\n",
       "Name: first_deposit_amount, dtype: float64"
      ]
     },
     "execution_count": 16,
     "metadata": {},
     "output_type": "execute_result"
    }
   ],
   "source": [
    "total_first_deposit.first_deposit_amount.describe()"
   ]
  },
  {
   "cell_type": "markdown",
   "id": "6fc2d1ac",
   "metadata": {},
   "source": [
    "#### Breakdown of deposit channels and methods"
   ]
  },
  {
   "cell_type": "code",
   "execution_count": 17,
   "id": "afcab0ee",
   "metadata": {},
   "outputs": [
    {
     "name": "stdout",
     "output_type": "stream",
     "text": [
      "first_deposit_channel  first_deposit_method\n",
      "Online                 Correction                  3\n",
      "                       MAESTRO                  2664\n",
      "                       MC                      27880\n",
      "                       MoneyBookersViaSC         599\n",
      "                       NetellerviaSC              71\n",
      "                       PaysafecardViaSC        13589\n",
      "                       VISA                    53677\n",
      "Retail                 RetailDeposit           28778\n",
      "dtype: int64\n"
     ]
    }
   ],
   "source": [
    "breakdown_first_deposit_channel = total_first_deposit.groupby(['first_deposit_channel','first_deposit_method']).size()\n",
    "print(breakdown_first_deposit_channel)"
   ]
  },
  {
   "cell_type": "markdown",
   "id": "b69aecc3",
   "metadata": {},
   "source": [
    "#### Joining first deposit and first bet (NOT COMPLETE)"
   ]
  },
  {
   "cell_type": "code",
   "execution_count": 18,
   "id": "bb0ebbef",
   "metadata": {},
   "outputs": [
    {
     "name": "stdout",
     "output_type": "stream",
     "text": [
      "125663\n"
     ]
    }
   ],
   "source": [
    "total_first_bet = first_bet.query('system_first_bet_datetime.notna()')\n",
    "joined_bet_deposit = pd.merge(total_first_bet, total_first_deposit, how='inner', on='src_player_id')\n",
    "print(len(joined_bet_deposit))"
   ]
  },
  {
   "cell_type": "code",
   "execution_count": 19,
   "id": "454afdfc",
   "metadata": {},
   "outputs": [
    {
     "data": {
      "text/html": [
       "<div>\n",
       "<style scoped>\n",
       "    .dataframe tbody tr th:only-of-type {\n",
       "        vertical-align: middle;\n",
       "    }\n",
       "\n",
       "    .dataframe tbody tr th {\n",
       "        vertical-align: top;\n",
       "    }\n",
       "\n",
       "    .dataframe thead th {\n",
       "        text-align: right;\n",
       "    }\n",
       "</style>\n",
       "<table border=\"1\" class=\"dataframe\">\n",
       "  <thead>\n",
       "    <tr style=\"text-align: right;\">\n",
       "      <th></th>\n",
       "      <th>src_player_id</th>\n",
       "      <th>system_first_bet_datetime</th>\n",
       "      <th>system_first_betslip_amt</th>\n",
       "      <th>system_first_bet_product_group</th>\n",
       "      <th>system_first_bet_product</th>\n",
       "      <th>system_first_bet_channel</th>\n",
       "      <th>system_first_bet_platform</th>\n",
       "      <th>first_deposit_date</th>\n",
       "      <th>first_deposit_channel</th>\n",
       "      <th>first_deposit_method</th>\n",
       "      <th>first_deposit_amount</th>\n",
       "    </tr>\n",
       "  </thead>\n",
       "  <tbody>\n",
       "    <tr>\n",
       "      <th>0</th>\n",
       "      <td>15643431</td>\n",
       "      <td>2020-10-09 03:57:29.000</td>\n",
       "      <td>2.5</td>\n",
       "      <td>eGaming</td>\n",
       "      <td>Non Table Games</td>\n",
       "      <td>Online</td>\n",
       "      <td>Mobile</td>\n",
       "      <td>2020-10-09 03:23:58</td>\n",
       "      <td>Online</td>\n",
       "      <td>MC</td>\n",
       "      <td>200.0</td>\n",
       "    </tr>\n",
       "    <tr>\n",
       "      <th>1</th>\n",
       "      <td>13593034</td>\n",
       "      <td>2019-09-27 15:03:58.244</td>\n",
       "      <td>10.0</td>\n",
       "      <td>Sports</td>\n",
       "      <td>Prematch</td>\n",
       "      <td>Online</td>\n",
       "      <td>Mobile</td>\n",
       "      <td>2019-09-27 09:13:18</td>\n",
       "      <td>Retail</td>\n",
       "      <td>RetailDeposit</td>\n",
       "      <td>30.0</td>\n",
       "    </tr>\n",
       "    <tr>\n",
       "      <th>2</th>\n",
       "      <td>15894194</td>\n",
       "      <td>2021-02-28 02:22:07.000</td>\n",
       "      <td>2.0</td>\n",
       "      <td>eGaming</td>\n",
       "      <td>Non Table Games</td>\n",
       "      <td>Online</td>\n",
       "      <td>Web</td>\n",
       "      <td>2021-02-28 02:18:26</td>\n",
       "      <td>Online</td>\n",
       "      <td>VISA</td>\n",
       "      <td>25.0</td>\n",
       "    </tr>\n",
       "    <tr>\n",
       "      <th>3</th>\n",
       "      <td>13238000</td>\n",
       "      <td>2019-07-08 10:39:45.000</td>\n",
       "      <td>0.4</td>\n",
       "      <td>eGaming</td>\n",
       "      <td>Non Table Games</td>\n",
       "      <td>Online</td>\n",
       "      <td>Mobile</td>\n",
       "      <td>2019-07-08 10:20:06</td>\n",
       "      <td>Online</td>\n",
       "      <td>VISA</td>\n",
       "      <td>25.0</td>\n",
       "    </tr>\n",
       "    <tr>\n",
       "      <th>4</th>\n",
       "      <td>12866848</td>\n",
       "      <td>2019-04-27 14:20:27.000</td>\n",
       "      <td>0.4</td>\n",
       "      <td>eGaming</td>\n",
       "      <td>Non Table Games</td>\n",
       "      <td>Online</td>\n",
       "      <td>Mobile</td>\n",
       "      <td>2019-04-27 11:59:51</td>\n",
       "      <td>Retail</td>\n",
       "      <td>RetailDeposit</td>\n",
       "      <td>70.0</td>\n",
       "    </tr>\n",
       "  </tbody>\n",
       "</table>\n",
       "</div>"
      ],
      "text/plain": [
       "   src_player_id system_first_bet_datetime  system_first_betslip_amt  \\\n",
       "0       15643431   2020-10-09 03:57:29.000                       2.5   \n",
       "1       13593034   2019-09-27 15:03:58.244                      10.0   \n",
       "2       15894194   2021-02-28 02:22:07.000                       2.0   \n",
       "3       13238000   2019-07-08 10:39:45.000                       0.4   \n",
       "4       12866848   2019-04-27 14:20:27.000                       0.4   \n",
       "\n",
       "  system_first_bet_product_group system_first_bet_product  \\\n",
       "0                        eGaming          Non Table Games   \n",
       "1                         Sports                 Prematch   \n",
       "2                        eGaming          Non Table Games   \n",
       "3                        eGaming          Non Table Games   \n",
       "4                        eGaming          Non Table Games   \n",
       "\n",
       "  system_first_bet_channel system_first_bet_platform  first_deposit_date  \\\n",
       "0                   Online                    Mobile 2020-10-09 03:23:58   \n",
       "1                   Online                    Mobile 2019-09-27 09:13:18   \n",
       "2                   Online                       Web 2021-02-28 02:18:26   \n",
       "3                   Online                    Mobile 2019-07-08 10:20:06   \n",
       "4                   Online                    Mobile 2019-04-27 11:59:51   \n",
       "\n",
       "  first_deposit_channel first_deposit_method  first_deposit_amount  \n",
       "0                Online                   MC                 200.0  \n",
       "1                Retail        RetailDeposit                  30.0  \n",
       "2                Online                 VISA                  25.0  \n",
       "3                Online                 VISA                  25.0  \n",
       "4                Retail        RetailDeposit                  70.0  "
      ]
     },
     "execution_count": 19,
     "metadata": {},
     "output_type": "execute_result"
    }
   ],
   "source": [
    "joined_bet_deposit.head()"
   ]
  },
  {
   "cell_type": "code",
   "execution_count": 20,
   "id": "0bd5e817",
   "metadata": {},
   "outputs": [],
   "source": [
    "joined_bet_deposit['date_difference'] = (joined_bet_deposit['first_deposit_date'] - joined_bet_deposit['system_first_bet_datetime']).dt.days"
   ]
  },
  {
   "cell_type": "code",
   "execution_count": 21,
   "id": "4d7b8a1e",
   "metadata": {},
   "outputs": [
    {
     "data": {
      "text/html": [
       "<div>\n",
       "<style scoped>\n",
       "    .dataframe tbody tr th:only-of-type {\n",
       "        vertical-align: middle;\n",
       "    }\n",
       "\n",
       "    .dataframe tbody tr th {\n",
       "        vertical-align: top;\n",
       "    }\n",
       "\n",
       "    .dataframe thead th {\n",
       "        text-align: right;\n",
       "    }\n",
       "</style>\n",
       "<table border=\"1\" class=\"dataframe\">\n",
       "  <thead>\n",
       "    <tr style=\"text-align: right;\">\n",
       "      <th></th>\n",
       "      <th>src_player_id</th>\n",
       "      <th>system_first_bet_datetime</th>\n",
       "      <th>system_first_betslip_amt</th>\n",
       "      <th>system_first_bet_product_group</th>\n",
       "      <th>system_first_bet_product</th>\n",
       "      <th>system_first_bet_channel</th>\n",
       "      <th>system_first_bet_platform</th>\n",
       "      <th>first_deposit_date</th>\n",
       "      <th>first_deposit_channel</th>\n",
       "      <th>first_deposit_method</th>\n",
       "      <th>first_deposit_amount</th>\n",
       "      <th>date_difference</th>\n",
       "    </tr>\n",
       "  </thead>\n",
       "  <tbody>\n",
       "    <tr>\n",
       "      <th>0</th>\n",
       "      <td>15643431</td>\n",
       "      <td>2020-10-09 03:57:29.000</td>\n",
       "      <td>2.5</td>\n",
       "      <td>eGaming</td>\n",
       "      <td>Non Table Games</td>\n",
       "      <td>Online</td>\n",
       "      <td>Mobile</td>\n",
       "      <td>2020-10-09 03:23:58</td>\n",
       "      <td>Online</td>\n",
       "      <td>MC</td>\n",
       "      <td>200.0</td>\n",
       "      <td>-1</td>\n",
       "    </tr>\n",
       "    <tr>\n",
       "      <th>1</th>\n",
       "      <td>13593034</td>\n",
       "      <td>2019-09-27 15:03:58.244</td>\n",
       "      <td>10.0</td>\n",
       "      <td>Sports</td>\n",
       "      <td>Prematch</td>\n",
       "      <td>Online</td>\n",
       "      <td>Mobile</td>\n",
       "      <td>2019-09-27 09:13:18</td>\n",
       "      <td>Retail</td>\n",
       "      <td>RetailDeposit</td>\n",
       "      <td>30.0</td>\n",
       "      <td>-1</td>\n",
       "    </tr>\n",
       "    <tr>\n",
       "      <th>2</th>\n",
       "      <td>15894194</td>\n",
       "      <td>2021-02-28 02:22:07.000</td>\n",
       "      <td>2.0</td>\n",
       "      <td>eGaming</td>\n",
       "      <td>Non Table Games</td>\n",
       "      <td>Online</td>\n",
       "      <td>Web</td>\n",
       "      <td>2021-02-28 02:18:26</td>\n",
       "      <td>Online</td>\n",
       "      <td>VISA</td>\n",
       "      <td>25.0</td>\n",
       "      <td>-1</td>\n",
       "    </tr>\n",
       "    <tr>\n",
       "      <th>3</th>\n",
       "      <td>13238000</td>\n",
       "      <td>2019-07-08 10:39:45.000</td>\n",
       "      <td>0.4</td>\n",
       "      <td>eGaming</td>\n",
       "      <td>Non Table Games</td>\n",
       "      <td>Online</td>\n",
       "      <td>Mobile</td>\n",
       "      <td>2019-07-08 10:20:06</td>\n",
       "      <td>Online</td>\n",
       "      <td>VISA</td>\n",
       "      <td>25.0</td>\n",
       "      <td>-1</td>\n",
       "    </tr>\n",
       "    <tr>\n",
       "      <th>4</th>\n",
       "      <td>12866848</td>\n",
       "      <td>2019-04-27 14:20:27.000</td>\n",
       "      <td>0.4</td>\n",
       "      <td>eGaming</td>\n",
       "      <td>Non Table Games</td>\n",
       "      <td>Online</td>\n",
       "      <td>Mobile</td>\n",
       "      <td>2019-04-27 11:59:51</td>\n",
       "      <td>Retail</td>\n",
       "      <td>RetailDeposit</td>\n",
       "      <td>70.0</td>\n",
       "      <td>-1</td>\n",
       "    </tr>\n",
       "  </tbody>\n",
       "</table>\n",
       "</div>"
      ],
      "text/plain": [
       "   src_player_id system_first_bet_datetime  system_first_betslip_amt  \\\n",
       "0       15643431   2020-10-09 03:57:29.000                       2.5   \n",
       "1       13593034   2019-09-27 15:03:58.244                      10.0   \n",
       "2       15894194   2021-02-28 02:22:07.000                       2.0   \n",
       "3       13238000   2019-07-08 10:39:45.000                       0.4   \n",
       "4       12866848   2019-04-27 14:20:27.000                       0.4   \n",
       "\n",
       "  system_first_bet_product_group system_first_bet_product  \\\n",
       "0                        eGaming          Non Table Games   \n",
       "1                         Sports                 Prematch   \n",
       "2                        eGaming          Non Table Games   \n",
       "3                        eGaming          Non Table Games   \n",
       "4                        eGaming          Non Table Games   \n",
       "\n",
       "  system_first_bet_channel system_first_bet_platform  first_deposit_date  \\\n",
       "0                   Online                    Mobile 2020-10-09 03:23:58   \n",
       "1                   Online                    Mobile 2019-09-27 09:13:18   \n",
       "2                   Online                       Web 2021-02-28 02:18:26   \n",
       "3                   Online                    Mobile 2019-07-08 10:20:06   \n",
       "4                   Online                    Mobile 2019-04-27 11:59:51   \n",
       "\n",
       "  first_deposit_channel first_deposit_method  first_deposit_amount  \\\n",
       "0                Online                   MC                 200.0   \n",
       "1                Retail        RetailDeposit                  30.0   \n",
       "2                Online                 VISA                  25.0   \n",
       "3                Online                 VISA                  25.0   \n",
       "4                Retail        RetailDeposit                  70.0   \n",
       "\n",
       "   date_difference  \n",
       "0               -1  \n",
       "1               -1  \n",
       "2               -1  \n",
       "3               -1  \n",
       "4               -1  "
      ]
     },
     "execution_count": 21,
     "metadata": {},
     "output_type": "execute_result"
    }
   ],
   "source": [
    "joined_bet_deposit.head()"
   ]
  },
  {
   "cell_type": "markdown",
   "id": "aaafbd68",
   "metadata": {},
   "source": [
    "#### Total Bets"
   ]
  },
  {
   "cell_type": "code",
   "execution_count": 22,
   "id": "3b367603",
   "metadata": {},
   "outputs": [
    {
     "name": "stdout",
     "output_type": "stream",
     "text": [
      "Potential people who can bet: 292785\n",
      "People who actually placed a bet: 159166\n",
      "Total % of people who bet: 54.36275765493451 %\n"
     ]
    }
   ],
   "source": [
    "print(\"Potential people who can bet:\",len(first_bet))\n",
    "print(\"People who actually placed a bet:\", len(total_first_bet))\n",
    "print(\"Total % of people who bet:\", (len(total_first_bet)/len(first_bet)*100),\"%\")"
   ]
  },
  {
   "cell_type": "markdown",
   "id": "43c7f961",
   "metadata": {},
   "source": [
    "#### First bet per platform"
   ]
  },
  {
   "cell_type": "code",
   "execution_count": 34,
   "id": "c34ea145",
   "metadata": {},
   "outputs": [
    {
     "name": "stdout",
     "output_type": "stream",
     "text": [
      "system_first_bet_platform\n",
      "Mobile    127948\n",
      "Web        31218\n",
      "dtype: int64\n"
     ]
    },
    {
     "data": {
      "text/plain": [
       "Text(0, 0.5, 'Bet Count')"
      ]
     },
     "execution_count": 34,
     "metadata": {},
     "output_type": "execute_result"
    },
    {
     "data": {
      "image/png": "[encoded data removed]",
      "text/plain": [
       "<Figure size 432x288 with 1 Axes>"
      ]
     },
     "metadata": {
      "needs_background": "light"
     },
     "output_type": "display_data"
    }
   ],
   "source": [
    "breakdown_first_bet_platform = total_first_bet.groupby('system_first_bet_platform').size()\n",
    "print(breakdown_first_bet_platform)\n",
    "breakdown_first_bet_platform.plot(kind='bar')\n",
    "plt.xticks(rotation=90, horizontalalignment=\"center\")\n",
    "plt.title(\"First bet on platform\")\n",
    "plt.xlabel(\"Platform\")\n",
    "plt.ylabel(\"Bet Count\")"
   ]
  },
  {
   "cell_type": "markdown",
   "id": "ad49a727",
   "metadata": {},
   "source": [
    "#### First bet product"
   ]
  },
  {
   "cell_type": "code",
   "execution_count": 35,
   "id": "be663ddf",
   "metadata": {},
   "outputs": [
    {
     "name": "stdout",
     "output_type": "stream",
     "text": [
      "system_first_bet_product_group  system_first_bet_product\n",
      "IVG                             IVG                           367\n",
      "Lottery                         Lucky Six                    1017\n",
      "                                LuckyX                         72\n",
      "                                Next Six                       24\n",
      "Lotto                           Lotto                        1742\n",
      "Sports                          Live                        16453\n",
      "                                Prematch                    44898\n",
      "eGaming                         Non Table Games             91147\n",
      "                                Table Games                  3446\n",
      "dtype: int64\n"
     ]
    },
    {
     "data": {
      "text/plain": [
       "Text(0, 0.5, 'Product')"
      ]
     },
     "execution_count": 35,
     "metadata": {},
     "output_type": "execute_result"
    },
    {
     "data": {
      "image/png": "[encoded data removed]",
      "text/plain": [
       "<Figure size 432x288 with 1 Axes>"
      ]
     },
     "metadata": {
      "needs_background": "light"
     },
     "output_type": "display_data"
    }
   ],
   "source": [
    "breakdown_first_bet_product = total_first_bet.groupby(['system_first_bet_product_group','system_first_bet_product']).size()\n",
    "print(breakdown_first_bet_product)\n",
    "breakdown_first_bet_product.plot(kind='barh')\n",
    "plt.xticks(rotation=0, horizontalalignment=\"center\")\n",
    "plt.title(\"First bet Product\")\n",
    "plt.xlabel(\"Bet Count\")\n",
    "plt.ylabel(\"Product\")"
   ]
  },
  {
   "cell_type": "markdown",
   "id": "8db73c8d",
   "metadata": {},
   "source": [
    "#### Products and their total accepted bonuses"
   ]
  },
  {
   "cell_type": "code",
   "execution_count": 36,
   "id": "ad14cd35",
   "metadata": {
    "scrolled": true
   },
   "outputs": [
    {
     "name": "stdout",
     "output_type": "stream",
     "text": [
      "      product        Total\n",
      "0  SportsBook   8084753.09\n",
      "1     eGaming  15390785.36\n"
     ]
    }
   ],
   "source": [
    "breakdown_product_bonus = pysql('SELECT product, SUM(bonus_cost) AS Total FROM bonus_cost WHERE activitymonth IS NOT NULL OR activitymonth != \"NULL\" GROUP BY product')\n",
    "print(breakdown_product_bonus)\n"
   ]
  },
  {
   "cell_type": "markdown",
   "id": "0725c236",
   "metadata": {},
   "source": [
    "##### eGaming has approx 2x the accepted bonuses compared to Sports"
   ]
  },
  {
   "cell_type": "markdown",
   "id": "31dacd9c",
   "metadata": {},
   "source": [
    "#### Number of players with only 1 bet "
   ]
  },
  {
   "cell_type": "code",
   "execution_count": 39,
   "id": "767c3283",
   "metadata": {},
   "outputs": [
    {
     "name": "stdout",
     "output_type": "stream",
     "text": [
      "       src_player_id  Counts\n",
      "0           12329393       1\n",
      "1           12329407       1\n",
      "2           12329630       1\n",
      "3           12329932       1\n",
      "4           12329942       1\n",
      "...              ...     ...\n",
      "68372       20701485       1\n",
      "68373       20701499       1\n",
      "68374       20701533       1\n",
      "68375       20703294       1\n",
      "68376       20703585       1\n",
      "\n",
      "[68377 rows x 2 columns]\n"
     ]
    }
   ],
   "source": [
    "breakdown_one_bet = pysql('SELECT DISTINCT(src_player_id), COUNT(src_player_id) as Counts FROM player_activity GROUP BY src_player_id HAVING COUNT(src_player_id) = 1')\n",
    "print(breakdown_one_bet)"
   ]
  },
  {
   "cell_type": "code",
   "execution_count": 27,
   "id": "cf4fa45e",
   "metadata": {},
   "outputs": [
    {
     "name": "stdout",
     "output_type": "stream",
     "text": [
      "68377\n"
     ]
    }
   ],
   "source": [
    "print(len(breakdown_one_bet))"
   ]
  },
  {
   "cell_type": "markdown",
   "id": "901d5707",
   "metadata": {},
   "source": [
    "#### Number of players with only 2 bets "
   ]
  },
  {
   "cell_type": "code",
   "execution_count": 38,
   "id": "b3182a06",
   "metadata": {},
   "outputs": [
    {
     "name": "stdout",
     "output_type": "stream",
     "text": [
      "       src_player_id  Counts\n",
      "0           12330083       2\n",
      "1           12330287       2\n",
      "2           12330391       2\n",
      "3           12330397       2\n",
      "4           12330467       2\n",
      "...              ...     ...\n",
      "31247       20699457       2\n",
      "31248       20699839       2\n",
      "31249       20701385       2\n",
      "31250       20701685       2\n",
      "31251       20702367       2\n",
      "\n",
      "[31252 rows x 2 columns]\n"
     ]
    }
   ],
   "source": [
    "breakdown_two_bet = pysql('SELECT DISTINCT(src_player_id), COUNT(src_player_id) as Counts FROM player_activity GROUP BY src_player_id HAVING COUNT(src_player_id) = 2')\n",
    "print(breakdown_two_bet)"
   ]
  },
  {
   "cell_type": "code",
   "execution_count": 29,
   "id": "24716af4",
   "metadata": {},
   "outputs": [
    {
     "name": "stdout",
     "output_type": "stream",
     "text": [
      "31252\n"
     ]
    }
   ],
   "source": [
    "print(len(breakdown_two_bet))"
   ]
  },
  {
   "cell_type": "markdown",
   "id": "c1b26302",
   "metadata": {},
   "source": [
    "#### Number of players with more than 2 bets"
   ]
  },
  {
   "cell_type": "code",
   "execution_count": 37,
   "id": "36a90661",
   "metadata": {},
   "outputs": [
    {
     "name": "stdout",
     "output_type": "stream",
     "text": [
      "       src_player_id  Counts\n",
      "0           12329956      14\n",
      "1           12329998       5\n",
      "2           12330018      21\n",
      "3           12330040       3\n",
      "4           12330059      39\n",
      "...              ...     ...\n",
      "67693       20695832       3\n",
      "67694       20696965       3\n",
      "67695       20699726       4\n",
      "67696       20700624       4\n",
      "67697       20702081       3\n",
      "\n",
      "[67698 rows x 2 columns]\n"
     ]
    }
   ],
   "source": [
    "breakdown_more_bet = pysql('SELECT DISTINCT(src_player_id), COUNT(src_player_id) as Counts FROM player_activity GROUP BY src_player_id HAVING COUNT(src_player_id) > 2')\n",
    "print(breakdown_more_bet)"
   ]
  },
  {
   "cell_type": "code",
   "execution_count": 31,
   "id": "d05972e1",
   "metadata": {},
   "outputs": [
    {
     "name": "stdout",
     "output_type": "stream",
     "text": [
      "67698\n"
     ]
    }
   ],
   "source": [
    "print(len(breakdown_more_bet))"
   ]
  },
  {
   "cell_type": "code",
   "execution_count": 32,
   "id": "41766cdd",
   "metadata": {},
   "outputs": [
    {
     "data": {
      "text/plain": [
       "count    67698.000000\n",
       "mean        10.773568\n",
       "std         11.806712\n",
       "min          3.000000\n",
       "25%          4.000000\n",
       "50%          6.000000\n",
       "75%         13.000000\n",
       "max        113.000000\n",
       "Name: Counts, dtype: float64"
      ]
     },
     "execution_count": 32,
     "metadata": {},
     "output_type": "execute_result"
    }
   ],
   "source": [
    "breakdown_more_bet.Counts.describe()"
   ]
  },
  {
   "cell_type": "code",
   "execution_count": null,
   "id": "403cf6ad",
   "metadata": {},
   "outputs": [],
   "source": []
  }
 ],
 "metadata": {
  "kernelspec": {
   "display_name": "Python 3 (ipykernel)",
   "language": "python",
   "name": "python3"
  },
  "language_info": {
   "codemirror_mode": {
    "name": "ipython",
    "version": 3
   },
   "file_extension": ".py",
   "mimetype": "text/x-python",
   "name": "python",
   "nbconvert_exporter": "python",
   "pygments_lexer": "ipython3",
   "version": "3.9.12"
  }
 },
 "nbformat": 4,
 "nbformat_minor": 5
}
